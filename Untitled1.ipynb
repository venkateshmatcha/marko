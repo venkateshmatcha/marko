{
  "nbformat": 4,
  "nbformat_minor": 0,
  "metadata": {
    "colab": {
      "name": "Untitled1.ipynb",
      "provenance": [],
      "collapsed_sections": [],
      "authorship_tag": "ABX9TyPL/ULtUNB9IhQ+7SDCUGuG",
      "include_colab_link": true
    },
    "kernelspec": {
      "name": "python3",
      "display_name": "Python 3"
    }
  },
  "cells": [
    {
      "cell_type": "markdown",
      "metadata": {
        "id": "view-in-github",
        "colab_type": "text"
      },
      "source": [
        "<a href=\"https://colab.research.google.com/github/venkateshmatcha/marko/blob/master/Untitled1.ipynb\" target=\"_parent\"><img src=\"https://colab.research.google.com/assets/colab-badge.svg\" alt=\"Open In Colab\"/></a>"
      ]
    },
    {
      "cell_type": "code",
      "metadata": {
        "id": "D9TAZtCeb06r"
      },
      "source": [
        "# Prime Numbers from 1 to 1000 :\r\n",
        "\r\n",
        "n = 1000\r\n",
        "l = []\r\n",
        "for i in range(2,n+1) :\r\n",
        "  c = 0\r\n",
        "  for j in range(2,i+1) :\r\n",
        "    if (i%j == 0) :\r\n",
        "      c = c + 1\r\n",
        "  if (c == 1) :\r\n",
        "    l.append(i)\r\n",
        "print(\"The Prime Numbers are between 1 and 1000 : \")\r\n",
        "print(l)\r\n"
      ],
      "execution_count": null,
      "outputs": []
    },
    {
      "cell_type": "code",
      "metadata": {
        "id": "rZ4LkdnefSus"
      },
      "source": [
        "# Factorial of Given Number : \r\n",
        "\r\n",
        "import math\r\n",
        "n = 10    #int(input())\r\n",
        "k = math.factorial(n)\r\n",
        "print(\"The Factorial of\", n ,\"is :\", k)"
      ],
      "execution_count": null,
      "outputs": []
    },
    {
      "cell_type": "code",
      "metadata": {
        "id": "ANo4YT5SdiZm"
      },
      "source": [
        "# Sum of Numbers :\r\n",
        "\r\n",
        "k = 10   # int(input())\r\n",
        "n = 1\r\n",
        "c = 0\r\n",
        "while(k > 0) :\r\n",
        "  c = c + n\r\n",
        "  n = n + 1\r\n",
        "  k = k - 1\r\n",
        "print(\"The Sum of numbers are :\",c)\r\n",
        "\r\n",
        "\r\n"
      ],
      "execution_count": null,
      "outputs": []
    }
  ]
}