{
  "nbformat": 4,
  "nbformat_minor": 0,
  "metadata": {
    "colab": {
      "name": "Untitled2.ipynb",
      "provenance": [],
      "collapsed_sections": [],
      "authorship_tag": "ABX9TyP+nq+bg3bZyUdaVyM+yYCF",
      "include_colab_link": true
    },
    "kernelspec": {
      "name": "python3",
      "display_name": "Python 3"
    }
  },
  "cells": [
    {
      "cell_type": "markdown",
      "metadata": {
        "id": "view-in-github",
        "colab_type": "text"
      },
      "source": [
        "<a href=\"https://colab.research.google.com/github/venkateshmatcha/marko/blob/master/Untitled2.ipynb\" target=\"_parent\"><img src=\"https://colab.research.google.com/assets/colab-badge.svg\" alt=\"Open In Colab\"/></a>"
      ]
    },
    {
      "cell_type": "code",
      "metadata": {
        "id": "2H2eWt5fn3RF"
      },
      "source": [
        "# Even Numbers in a list : \r\n",
        "\r\n",
        "l = list(map(int,input().split(\",\")))\r\n",
        "l1 = []\r\n",
        "for i in l :\r\n",
        "  if(i%2 == 0) :\r\n",
        "    l1.append(i)\r\n",
        "print(l1)\r\n"
      ],
      "execution_count": null,
      "outputs": []
    },
    {
      "cell_type": "code",
      "metadata": {
        "id": "V3iPEbAIol9B"
      },
      "source": [
        "# Pattern Program :\r\n",
        "\r\n",
        "n = 5         # int(input())\r\n",
        "for i in range(1,n+1) :\r\n",
        "  k = n-i\r\n",
        "  for j in range(1,k+1) :\r\n",
        "    print(\" \",end=\"\")\r\n",
        "  \r\n",
        "  for l in range(1,i+1) :\r\n",
        "    print(i,end=\"\")\r\n",
        "  print()"
      ],
      "execution_count": null,
      "outputs": []
    }
  ]
}